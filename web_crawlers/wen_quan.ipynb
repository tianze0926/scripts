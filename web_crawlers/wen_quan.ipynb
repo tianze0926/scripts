{
 "cells": [
  {
   "cell_type": "code",
   "execution_count": null,
   "metadata": {},
   "outputs": [],
   "source": [
    "\"\"\"\n",
    "文泉书局\n",
    "\"\"\""
   ]
  },
  {
   "cell_type": "code",
   "execution_count": null,
   "metadata": {},
   "outputs": [],
   "source": [
    "\"\"\"\n",
    "Get images\n",
    "\"\"\"\n",
    "import requests\n",
    "import time\n",
    "import jwt\n",
    "import json\n",
    "\n",
    "BOOK_ID = '5611'\n",
    "PAGE_NUM = 448\n",
    "NAME = 'math' # used as images directory name & pdf name\n",
    "\n",
    "# get key\n",
    "k_url = f'https://lib-tsinghua.wqxuetang.com/v1/read/k?bid={BOOK_ID}'\n",
    "k = requests.get(k_url).content.decode()\n",
    "k = json.dumps(json.loads(k)['data'])\n",
    "\n",
    "# jwt\n",
    "SECRET = 'g0NnWdSE8qEjdMD8a1aq12qEYphwErKctvfd3IktWHWiOBpVsgkecur38aBRPn2w'\n",
    "iat = int(time.time())\n",
    "t = iat * 1000\n",
    "encoded_jwt = jwt.encode({\n",
    "    'p': '1',\n",
    "    't': t,\n",
    "    'b': BOOK_ID,\n",
    "    'w': 1000,\n",
    "    'k': k,\n",
    "    'iat': iat,\n",
    "}, SECRET, algorithm='HS256').decode()\n",
    "\n",
    "url = f'https://lib-tsinghua.wqxuetang.com/page/lmg/{BOOK_ID}/{{}}?k={encoded_jwt}'\n",
    "\n",
    "for i in range(1, PAGE_NUM+1):\n",
    "    url_i = url.format(i)\n",
    "    r = requests.get(url_i).content\n",
    "    if not r:\n",
    "        raise Exception('no content')\n",
    "    with open(f'{NAME}/{i}.jpg', 'wb') as f:\n",
    "        f.write(r)\n",
    "    print(i, end=' ')\n",
    "    time.sleep(2)"
   ]
  },
  {
   "cell_type": "code",
   "execution_count": null,
   "metadata": {},
   "outputs": [],
   "source": [
    "\"\"\"\n",
    "Generate PDF\n",
    "\"\"\"\n",
    "\n",
    "import img2pdf\n",
    "\n",
    "images = [f'{NAME}/{i}.jpg' for i in range(1, PAGE_NUM+1)]\n",
    "\n",
    "with open(f'{NAME}.pdf', 'wb') as f:\n",
    "    f.write(img2pdf.convert(images))\n",
    "\n",
    "# add bookmarks\n",
    "\n",
    "import requests\n",
    "tree_url = f'https://lib-tsinghua.wqxuetang.com/v1/book/catatree?bid={BOOK_ID}'\n",
    "tree = requests.get(tree_url).json()['data']\n",
    "\n",
    "from PyPDF2 import PdfFileWriter, PdfFileReader\n",
    "output = PdfFileWriter() # open output\n",
    "input = PdfFileReader(open(f'{NAME}.pdf', 'rb')) # open input\n",
    "\n",
    "for i in range(PAGE_NUM):\n",
    "    output.addPage(input.getPage(i)) # insert page\n",
    "\n",
    "for chapter in tree:\n",
    "    chapter_mark = output.addBookmark(chapter['label'], int(chapter['pnum'])-1, parent=None)\n",
    "    if 'children' in chapter:\n",
    "        for section in chapter['children']:\n",
    "            output.addBookmark(section['label'], int(section['pnum'])-1, parent=chapter_mark)\n",
    "\n",
    "with open(f'{NAME}_bookmarks.pdf', 'wb') as f:\n",
    "    output.write(f)"
   ]
  }
 ],
 "metadata": {
  "interpreter": {
   "hash": "f9f85f796d01129d0dd105a088854619f454435301f6ffec2fea96ecbd9be4ac"
  },
  "kernelspec": {
   "display_name": "Python 3.9.7 64-bit",
   "language": "python",
   "name": "python3"
  },
  "language_info": {
   "codemirror_mode": {
    "name": "ipython",
    "version": 3
   },
   "file_extension": ".py",
   "mimetype": "text/x-python",
   "name": "python",
   "nbconvert_exporter": "python",
   "pygments_lexer": "ipython3",
   "version": "3.8.10"
  },
  "orig_nbformat": 4
 },
 "nbformat": 4,
 "nbformat_minor": 2
}
